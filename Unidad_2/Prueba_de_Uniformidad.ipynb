{
  "nbformat": 4,
  "nbformat_minor": 0,
  "metadata": {
    "colab": {
      "provenance": [],
      "authorship_tag": "ABX9TyObcdTnNg1qQ6SaLzTKZxRf",
      "include_colab_link": true
    },
    "kernelspec": {
      "name": "python3",
      "display_name": "Python 3"
    },
    "language_info": {
      "name": "python"
    }
  },
  "cells": [
    {
      "cell_type": "markdown",
      "metadata": {
        "id": "view-in-github",
        "colab_type": "text"
      },
      "source": [
        "<a href=\"https://colab.research.google.com/github/NAvilCap/Simulaci-n/blob/main/Unidad_2/Prueba_de_Uniformidad.ipynb\" target=\"_parent\"><img src=\"https://colab.research.google.com/assets/colab-badge.svg\" alt=\"Open In Colab\"/></a>"
      ]
    },
    {
      "cell_type": "code",
      "execution_count": 5,
      "metadata": {
        "colab": {
          "base_uri": "https://localhost:8080/"
        },
        "id": "MR7-dR8ZI2y_",
        "outputId": "61ebeb6f-01c7-4853-a134-60d23f7b0df4"
      },
      "outputs": [
        {
          "output_type": "stream",
          "name": "stdout",
          "text": [
            "Numeros aleatorios generados\n",
            "[0.0822198  0.24047913 0.98860464 0.30402804 0.5647092  0.50082318\n",
            " 0.91609102 0.62203373 0.57063905 0.79189701 0.75686667 0.86096262\n",
            " 0.9081065  0.9644072  0.63102827 0.43629425 0.17729499 0.02602594\n",
            " 0.58422322 0.73787273 0.50714625 0.24518665 0.99645326 0.68994326\n",
            " 0.11590649 0.03634971 0.88970689 0.62158073 0.30097566 0.65847797\n",
            " 0.38880477 0.3224916  0.87122797 0.47970675 0.66773535 0.76506658\n",
            " 0.47274762 0.54313293 0.42349451 0.53871386 0.39105903 0.36370845\n",
            " 0.84950687 0.0216126  0.46073063 0.14954553 0.15475348 0.61668548\n",
            " 0.52288663 0.97459014 0.57572097 0.94514223 0.79752883 0.20610388\n",
            " 0.97261218 0.77036061 0.55201878 0.08655408 0.40756598 0.01501155\n",
            " 0.96656003 0.2561272  0.22508787 0.47654918 0.85226729 0.54557895\n",
            " 0.15439323 0.20177196 0.98256556 0.30038675 0.49337428 0.77710481\n",
            " 0.75102573 0.42967068 0.60204469 0.10228316 0.74202708 0.21788492\n",
            " 0.65234165 0.47203516 0.98361294 0.44938684 0.12566403 0.74318202\n",
            " 0.40971424 0.65873668 0.88426687 0.27638136 0.84232463 0.6380943\n",
            " 0.89987694 0.22367226 0.96885753 0.79298999 0.36552993 0.95054623\n",
            " 0.2042795  0.20573402 0.54305771 0.85275983]\n",
            "\n",
            "Frecuencia observada por intervalos:  [ 7 10 10  6 12 12 10 11  8 14]\n",
            "Frecuencia esperada por intervalo:  10.0\n",
            "Chi-Cuadrado: 5.4\n",
            "Valor p: 0.7981390623953614\n",
            "No se puede rechazar la hipótesis nula: los datos siguen una distribución uniforme.\n"
          ]
        }
      ],
      "source": [
        "import numpy as np\n",
        "import scipy.stats as stats\n",
        "\n",
        "# Generar 100 números aleatorios uniformes entre 0 y 1\n",
        "random_numbers = np.random.uniform(0, 1, 100)\n",
        "\n",
        "#Mostrar Numeros Aleatorios generados\n",
        "print(\"Numeros aleatorios generados\")\n",
        "print(random_numbers)\n",
        "\n",
        "#Dividir el rango[0,1] en 10 intervalos\n",
        "intervalos=10\n",
        "observed_counts, bin_edges= np.histogram(random_numbers, bins=intervalos)\n",
        "\n",
        "#Numero esperado en cada intervalo si la distribucion es uniforme\n",
        "expected_count= 100/intervalos #Deberian de tener una distribucion uniforme\n",
        "\n",
        "#Prueba de Chi-Cuadrado\n",
        "Chi2_statistic, p_value=stats.chisquare(observed_counts, [expected_count]*intervalos)\n",
        "#Mostrar Resultados\n",
        "print(\"\\nFrecuencia observada por intervalos: \",observed_counts)\n",
        "print(\"Frecuencia esperada por intervalo: \", expected_count)\n",
        "print(\"Chi-Cuadrado:\", Chi2_statistic)\n",
        "print(\"Valor p:\", p_value)\n",
        "\n",
        "\n",
        "# Interpretar el resultado\n",
        "if p_value > 0.05:\n",
        "    print(\"No se puede rechazar la hipótesis nula: los datos siguen una distribución uniforme.\")\n",
        "else:\n",
        "    print(\"Se rechaza la hipótesis nula: los datos no siguen una distribución uniforme.\")\n"
      ]
    }
  ]
}