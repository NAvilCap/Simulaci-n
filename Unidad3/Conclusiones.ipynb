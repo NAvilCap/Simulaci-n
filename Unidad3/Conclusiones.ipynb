{
  "nbformat": 4,
  "nbformat_minor": 0,
  "metadata": {
    "colab": {
      "provenance": [],
      "authorship_tag": "ABX9TyOWj/Dg3E72BuWR1YSec5UU",
      "include_colab_link": true
    },
    "kernelspec": {
      "name": "python3",
      "display_name": "Python 3"
    },
    "language_info": {
      "name": "python"
    }
  },
  "cells": [
    {
      "cell_type": "markdown",
      "metadata": {
        "id": "view-in-github",
        "colab_type": "text"
      },
      "source": [
        "<a href=\"https://colab.research.google.com/github/NAvilCap/Simulaci-n/blob/main/Unidad3/Conclusiones.ipynb\" target=\"_parent\"><img src=\"https://colab.research.google.com/assets/colab-badge.svg\" alt=\"Open In Colab\"/></a>"
      ]
    },
    {
      "cell_type": "markdown",
      "source": [
        "# **Conclusiones sobre beneficios de uso de variables aleatorias para simulación de tiempos de servicio, atención, inactividad, entre otros contextos.**"
      ],
      "metadata": {
        "id": "G-oti2TCnwYP"
      }
    },
    {
      "cell_type": "markdown",
      "source": [
        "El uso de las variables aleatoreas permite realizar las simulaciones de escenarios necesarios, con un alto grado de realismo o de representabilidad en escenarios reales, para poder predecir sistemas de la mejor manera posible. Sin tener que correr el riesgo de tener que experimentar en produccion o escenarios reales, pudiendo implementar los cambios y/o mejoras necesarias ya verificadas y analizadas.\n",
        "\n",
        "Un ejemplo seria el escenario del problema 1, en donde por medio de la simulacion de ventas realizadas podemos concluir un escenario perfecto de pedidos satisfechos y de esa forma poder tener un alamacen preparado para la cantidad de elementos necesarios sin correr el riesgo de mantener un deficit o sobresaturacion de almacen, manteniendo unicamente lo necesario.\n",
        "\n",
        "Por ultimo, para recapitular beneficios podemos mencionar lo siguiente:\n",
        " Permiten anticipar la variabilidad en procesos de servicio y mejorar la asignación de recursos.\n",
        " Facilitan la toma de decisiones estratégicas para optimizar la atención al cliente.\n",
        " Ayudan a comprender la distribución de tiempos de inactividad y a mejorar la eficiencia operativa.\n"
      ],
      "metadata": {
        "id": "TBcnWCOin7L_"
      }
    }
  ]
}